{
 "cells": [
  {
   "cell_type": "markdown",
   "id": "f7a800b8",
   "metadata": {},
   "source": [
    "## Intro to statistical analysis of neural data in *Python* ##"
   ]
  },
  {
   "cell_type": "markdown",
   "id": "a4386a77",
   "metadata": {},
   "source": [
    "### Part 1: Frequency tables, distributions, and scatter plots ###"
   ]
  },
  {
   "cell_type": "markdown",
   "id": "2c34cf9e",
   "metadata": {},
   "source": [
    "Welcome to this hands-on lesson where we'll explore teh basics of statistical analysis! We'll be working with a dataset of 25,000 18-year-olds that includes their height (in inches) and weight (in pounds). Even though this isn't neural data, we can use this dataset to learn about statistical concepts that apply to any type of data, including data about the brain!\n",
    "<br>\n",
    "By the end of this lesson, you will: \n",
    "<br>\n",
    "\n",
    "- Load and inspect tabular data from a CSV file.\n",
    "- Create and interpret frequency tables.\n",
    "- Visualize data using histograms and scatter plots.\n",
    "- Understand how your choice of the number of bins affects the shape of a histogram.\n",
    "\n",
    "<br>\n",
    "Lets get started!"
   ]
  },
  {
   "cell_type": "markdown",
   "id": "96bf9fb6",
   "metadata": {},
   "source": [
    "#### **📦 Import necessary libraries**\n",
    "\n",
    "As always, let's start by importing the critical Python libraries that we'll be using to do \n",
    "- math\n",
    "- manipulate data\n",
    "- generate plots"
   ]
  },
  {
   "cell_type": "code",
   "execution_count": null,
   "id": "d6752642",
   "metadata": {},
   "outputs": [],
   "source": [
    "import numpy as np \n",
    "import pandas as pd\n",
    "import matplotlib.pyplot as plt\n",
    "\n",
    "# Enable inline plotting for Jupyter notebooks\n",
    "%matplotlib inline"
   ]
  },
  {
   "cell_type": "markdown",
   "id": "110b1f86",
   "metadata": {},
   "source": [
    "##### **📂 Step 1: Load the Dataset**\n",
    "\n",
    "We will beign by importing the dataset from a CSV file called `height_weight.csv`. Make sure this file is in the same directory as your notebook.\n",
    "<br>\n",
    "To start, let's import the data and inspect how many rows and columns there are in our data. "
   ]
  },
  {
   "cell_type": "code",
   "execution_count": null,
   "id": "be8d0eb9",
   "metadata": {},
   "outputs": [],
   "source": [
    "# Load the dataset\n",
    "df = pd.read_csv(\"csv files/HeightWeight.csv\")\n",
    "\n",
    "# Display the shape to see how many rows and columns we have \n",
    "print(f\"Dataset shape: {df.shape}\")"
   ]
  },
  {
   "cell_type": "markdown",
   "id": "209d8a69",
   "metadata": {},
   "source": [
    "❓What do you think the number of rows and columns correspond to?"
   ]
  },
  {
   "cell_type": "markdown",
   "id": "aacb3508",
   "metadata": {},
   "source": [
    "##### **👀 Step 2: View the First 20 Rows**\n",
    "\n",
    "Let's take a quick look at the first few entries in the dataset to get a feel for the data."
   ]
  },
  {
   "cell_type": "code",
   "execution_count": null,
   "id": "14cad49f",
   "metadata": {},
   "outputs": [],
   "source": [
    "# Display the first 20 rows\n",
    "df.head(20)"
   ]
  },
  {
   "cell_type": "markdown",
   "id": "1ddd4646",
   "metadata": {},
   "source": [
    "We can see from the output that the data seems reasonable (remember that these are values of the height and weight of 18 year old humans)"
   ]
  },
  {
   "cell_type": "markdown",
   "id": "59e41a41",
   "metadata": {},
   "source": [
    "##### 📊 Step 3: Create a Frequency Table\n",
    "\n",
    "Our first step in getting a sense of the distribution is to generate a frequency table. We'll now create a frequency table for height by grouping the values into bins.\n",
    "<br><br>\n",
    "First, we will define the bin edges manually. To start, let's create bins that are 10 inches wide, starting at 50 inches (about 4.5 feet) and ending at 90 inches (over 7 feet). \n",
    "<br><br>\n",
    "❓How many bins do you think this will create?"
   ]
  },
  {
   "cell_type": "code",
   "execution_count": null,
   "id": "4007c7a1",
   "metadata": {},
   "outputs": [],
   "source": [
    "# Define bin edges for height (in cm)\n",
    "bin_edges = [50, 60, 70, 80, 90]\n",
    "\n",
    "\n",
    "# Use pandas 'cut' function to group data\n",
    "height_bins = pd.cut(df['Height'], bins=bin_edges)\n",
    "\n",
    "\n",
    "# Create frequency table\n",
    "height_freq_table = height_bins.value_counts().sort_index()\n",
    "\n",
    "\n",
    "# Display the frequency table\n",
    "height_freq_table"
   ]
  },
  {
   "cell_type": "markdown",
   "id": "ff4ea641",
   "metadata": {},
   "source": [
    "##### **📉 Step 4: Plot a Histogram**\n",
    "\n",
    "We'll now visualize the distribution of height using a histogram. As you've learnt, a histogram helps us understand the shape and spread of the sample of data.\n",
    "\n",
    "**Task:** In the cell below, let's add labels for the x and y axis, and give the figure a title"
   ]
  },
  {
   "cell_type": "code",
   "execution_count": null,
   "id": "42f3f22b",
   "metadata": {},
   "outputs": [],
   "source": [
    "# Plot histogram for height\n",
    "plt.figure(figsize=(8, 5))\n",
    "plt.hist(df['Height'], bins=bin_edges, edgecolor = 'black')\n",
    "\n",
    "\n",
    "# insert axis labels and title here\n",
    "plt.title(...)\n",
    "plt.xlabel(...)\n",
    "plt.ylabel(...)\n",
    "\n",
    "plt.grid(True)\n",
    "plt.show()"
   ]
  },
  {
   "cell_type": "markdown",
   "id": "0273981a",
   "metadata": {},
   "source": [
    "##### **🔧 Step 5: Vary the Number of Bins**\n",
    "\n",
    "Above, we used bins that were spaced in 10-inch increments.\n",
    "\n",
    "**Questions❓** \n",
    "- Do you think this reveals enough detail about the distribution of height? \n",
    "- What could we change to reveal more about the shape of the distribution? \n",
    "\n",
    "<br>\n",
    "Let's see how changing the number of bins affects the appearance of a histogram. But rather than specifying the bin-edges manually as we did before, let's just tell Python how many bins we want, and it will automatically create bin-edges that are evenly spaced across the rang eof the data."
   ]
  },
  {
   "cell_type": "code",
   "execution_count": null,
   "id": "3082be37",
   "metadata": {},
   "outputs": [],
   "source": [
    "# Define number of bins\n",
    "num_bins = 5\n",
    "bins = pd.cut(df['Height'], bins=num_bins)\n",
    "\n",
    "\n",
    "# For comparison sake let's print out what the frequency table will look like!\n",
    "freq_table = bins.value_counts().sort_index()\n",
    "freq_table"
   ]
  },
  {
   "cell_type": "code",
   "execution_count": null,
   "id": "9d52e8d6",
   "metadata": {},
   "outputs": [],
   "source": [
    "# Plot histogram for height \n",
    "plt.figure(figsize=(8, 5)) \n",
    "plt.hist(df['Height'], bins=num_bins, edgecolor='black')\n",
    "plt.title('Histogram of Height')\n",
    "plt.xlabel('Height (inches)')\n",
    "plt.ylabel('Frequency')\n",
    "plt.grid(True)\n",
    "plt.show()"
   ]
  },
  {
   "cell_type": "markdown",
   "id": "efe7365d",
   "metadata": {},
   "source": [
    "**Task:**  Keep running the cell below, but each time, try entering different values in 'num_bins', such as 5, 10, 20, 50, and 200.\n",
    "\n",
    "**Questions❓** \n",
    "- How did the number of bins (and therefore the bin size) affect the shape of the distribution that is plotted?"
   ]
  },
  {
   "cell_type": "markdown",
   "id": "8223631e",
   "metadata": {},
   "source": [
    "Let's not forget that for each of the 1,000 humans in our dataset, we have values for both their height *and* their weight!\n",
    "<br><br>\n",
    "First, let's plot a histogram to view the distribution of weight. We'll have Python automatically create 50 bins.\n",
    "<br>\n",
    "\n",
    "**Visualizing both height and weight**"
   ]
  },
  {
   "cell_type": "code",
   "execution_count": null,
   "id": "82d31f5f",
   "metadata": {},
   "outputs": [],
   "source": [
    "# Plot histogram for weight using default bins\n",
    "plt.figure(figsize=(8, 5))\n",
    "plt.hist(df['Weight'], bins=50, edgecolor='black')\n",
    "plt.title('Histogram of Weight')\n",
    "plt.xlabel('Weight')\n",
    "plt.ylabel('Frequency')\n",
    "plt.grid(True)\n",
    "plt.show()"
   ]
  },
  {
   "cell_type": "markdown",
   "id": "0ead4d5a",
   "metadata": {},
   "source": [
    "**Questions❓** \n",
    "- Does the distribution of weight look similar in shape to the distribution for height? "
   ]
  },
  {
   "cell_type": "markdown",
   "id": "7f979ea0",
   "metadata": {},
   "source": [
    "##### ⚖️ Step 6: Scatter Plot of Height vs. Weight\n",
    "\n",
    "So far, we've only visualized the distribution for either height OR weight, one at a time. But it is often useful to visualize more than one variable at a time.\n",
    "<br><br>\n",
    "\n",
    "Let's visualize both height, and weight simultaneously using a *scatter plot*.\n",
    "<br>\n",
    "As you just learnt in lecture, scatter plots are a useful way to simultaneously visualize two variables.\n",
    "<br><br>\n",
    "\n",
    "Instead of \"binning\" the data to create discrete bins as we did for generating a histogram, the data remains *continuous* for plotting scatter plots."
   ]
  },
  {
   "cell_type": "code",
   "execution_count": null,
   "id": "5f6bf139",
   "metadata": {},
   "outputs": [],
   "source": [
    "# Create a scatter plot\n",
    "plt.figure(figsize=(8, 6))\n",
    "plt.scatter(df['Height'], df['Weight'], alpha=0.5, s=10)\n",
    "plt.title('Height vs. Weight')\n",
    "plt.xlabel('Height')\n",
    "plt.ylabel('Weight')\n",
    "plt.grid(True)\n",
    "plt.show()"
   ]
  },
  {
   "cell_type": "markdown",
   "id": "50e41b62",
   "metadata": {},
   "source": [
    "**Questions❓**\n",
    "- What does each marker (i.e., each dot) represent in the scatterplot?\n",
    "- Additionally, what do you notice about the relationship between people's height and weight? Is there a pattern across the data? This will be a relevant concept we will touch upon later this semester!"
   ]
  },
  {
   "cell_type": "markdown",
   "id": "dac22632",
   "metadata": {},
   "source": [
    "##### ✅ Summary\n",
    "\n",
    "In this lesson, you learned how to: \n",
    "- Load and view data using pandas.\n",
    "- Create frequency tables using custom bin edges.\n",
    "- Visualize distributions with histograms.\n",
    "- Understand the effect of bin size on histograms.\n",
    "- Use scatter plots to explore relationships between two variables.\n",
    "\n",
    "Some of the next steps we'll tackle include computing summary statistics of a distribution (mean, median, standard deviation), and identifying outliers.\n",
    "<br><br>\n",
    "\n",
    "**🎉 Great job!**"
   ]
  }
 ],
 "metadata": {
  "kernelspec": {
   "display_name": "Python 3",
   "language": "python",
   "name": "python3"
  },
  "language_info": {
   "codemirror_mode": {
    "name": "ipython",
    "version": 3
   },
   "file_extension": ".py",
   "mimetype": "text/x-python",
   "name": "python",
   "nbconvert_exporter": "python",
   "pygments_lexer": "ipython3",
   "version": "3.11.0"
  }
 },
 "nbformat": 4,
 "nbformat_minor": 5
}
