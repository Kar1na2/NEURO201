{
 "cells": [
  {
   "cell_type": "markdown",
   "id": "115454d6",
   "metadata": {},
   "source": [
    "## Intro to Statistics: Part 2 - Measures of central tendency and variation"
   ]
  },
  {
   "cell_type": "markdown",
   "id": "64549930",
   "metadata": {},
   "source": [
    "### 📊 Measures of central tendency and variability\n",
    "\n",
    "Welcome! In this Jupyter notebook, we'll explore descriptive statistics in Python. As you've learnt in lecture, descriptive statistics are used by researchers to characterize the sample data. In this notebook, we'll explore some of the most important and common descriptive statistical measures:\n",
    "\n",
    "1. **Measures of Central Tendency** (Mean & Median)\n",
    "2. **Measures of Dispersion** (Range & Standard Deviation) \n",
    "\n",
    "<br>\n",
    "We'll work with a dataset containing the height of 1,000 adults.\n",
    "\n",
    "<br><br>\n",
    "Let's begin, as always, by importing the libraries that contain the functions we'll need in order to calculate statistics!"
   ]
  },
  {
   "cell_type": "code",
   "execution_count": null,
   "id": "ae675c42",
   "metadata": {},
   "outputs": [],
   "source": [
    "# 📦 Import libraries\n",
    "import pandas as pd\n",
    "import numpy as np\n",
    "import matplotlib.pyplot as plt\n",
    "print('Imported Libraries!')\n",
    "\n",
    "# Enable plots in the notebook\n",
    "%matplotlib inline"
   ]
  },
  {
   "cell_type": "markdown",
   "id": "f234d2d7",
   "metadata": {},
   "source": [
    "#### 📂 Load the Height Dataset\n",
    "\n",
    "Next, let's load our dataset, which is called `height_data.csv`. Just as we did last time, let's begin by inspecting the size of our dataset. You should see that our dataset, which we assign to the variable `height_df` (df for short) contains a single column of 1000 height values."
   ]
  },
  {
   "cell_type": "code",
   "execution_count": null,
   "id": "9c2637c4",
   "metadata": {},
   "outputs": [],
   "source": [
    "# Load the height dataset\n",
    "height_df = pd.read_csv(\"csv files/height_data.csv\")\n",
    "\n",
    "# Display how many rows and columns are in the dataset\n",
    "print(f\"Dataset shape: {height_df.shape}\")"
   ]
  },
  {
   "cell_type": "code",
   "execution_count": null,
   "id": "680feb7f-b642-4fcf-9081-c976c5b061cf",
   "metadata": {},
   "outputs": [],
   "source": [
    "# Display the first 20 rows of our dataset\n",
    "height_df.head(20)"
   ]
  },
  {
   "cell_type": "markdown",
   "id": "c9b34e34",
   "metadata": {},
   "source": [
    "#### 📈 Plot Histogram of Heights\n",
    "\n",
    "Now let's visualize the distribution of height scores. To do so, let's graph a histogram and tell Python that we want the histogram to contain 50 evenly spaced bins."
   ]
  },
  {
   "cell_type": "code",
   "execution_count": null,
   "id": "f818f4f0",
   "metadata": {},
   "outputs": [],
   "source": [
    "# Plot histogram\n",
    "plt.figure(figsize=(10, 5))\n",
    "plt.hist(height_df['Height'], bins=50, edgecolor='black')\n",
    "\n",
    "# Let's make our plot look pretty and informative:\n",
    "plt.title(\"Distribution of Height (100 Bins)\")\n",
    "plt.xlabel(\"Height (cm)\")\n",
    "plt.ylabel(\"Frequency\")\n",
    "plt.grid(True)\n",
    "plt.show()"
   ]
  },
  {
   "cell_type": "markdown",
   "id": "7928f5ac",
   "metadata": {},
   "source": [
    "### 📌 Section 1: Measures of Central Tendency\n",
    "\n",
    "We will now calculate the **mean** and **median** of this distribution of height values using built-in functions that are part of the libraries we imported earlier.\n",
    "<br><br>\n",
    "After calculating the mean and median, let's overlay these values on top of the histogram so we can get a sense of how the mean and median relate to the overall distribution of heights."
   ]
  },
  {
   "cell_type": "code",
   "execution_count": null,
   "id": "64a1b44d",
   "metadata": {},
   "outputs": [],
   "source": [
    "# Calculate the mean and median\n",
    "\n",
    "mean_height = np.mean(height_df['Height'])\n",
    "median_height = np.median(height_df['Height'])\n",
    "\n",
    "print(f\"Mean = {mean_height}\")\n",
    "print(f\"Median = {median_height}\")\n"
   ]
  },
  {
   "cell_type": "code",
   "execution_count": null,
   "id": "b13e4454",
   "metadata": {},
   "outputs": [],
   "source": [
    "# Plot histogram with mean and median as green and red dashed lines\n",
    "plt.figure(figsize=(10, 5))\n",
    "plt.hist(height_df['Height'], bins=100, edgecolor='black', alpha=0.7)\n",
    "plt.axvline(mean_height, color='red', linestyle='dashed', linewidth=2)\n",
    "plt.axvline(median_height, color='green', linestyle='dashed', linewidth=2)\n",
    "\n",
    "# Let's make our plot look pretty and informative:\n",
    "plt.title(\"Height Distribution with Mean and Median\")\n",
    "plt.xlabel(\"Height (cm)\")\n",
    "plt.ylabel(\"Frequency\")\n",
    "plt.grid(True)\n",
    "plt.show()\n"
   ]
  },
  {
   "cell_type": "markdown",
   "id": "8629e01d",
   "metadata": {},
   "source": [
    "**Questions❓**\n",
    "- Notice that the mean and median are very close in value to one another. Why do you think that is?\n",
    "- What are some examples of distribution shapes for which the mean and median would differ?"
   ]
  },
  {
   "cell_type": "markdown",
   "id": "650d4507",
   "metadata": {},
   "source": [
    "### 📌 Section 2: Measures of Dispersion\n",
    "\n",
    "In addition to a summary statistic that tells us the \"central tendency\" of our distribution, it is useful to calculate statistics that tell us how spread out our data is. These are known as measures of \"dispersion\". \n",
    "<br><br>\n",
    "\n",
    "Let's return to our height dataset and calculate 3 different measures of dispersion\n",
    "\n",
    "- **Full Range**\n",
    "- **Inter-quartile range**\n",
    "- **Standard Deviation** "
   ]
  },
  {
   "cell_type": "markdown",
   "id": "622cd215",
   "metadata": {},
   "source": [
    "**1. Full Range**\n",
    "<br><br>\n",
    "The full range of the data is simply the difference between the largest and smallest scores in our sample. The cell below calculates the range."
   ]
  },
  {
   "cell_type": "code",
   "execution_count": null,
   "id": "9d01899c",
   "metadata": {},
   "outputs": [],
   "source": [
    "# Calculate range by subtracting the min score from the max score\n",
    "range_height = height_df['Height'].max() - height_df['Height'].min()\n",
    "print(f\"Range = {range_height:.2f} cm\")"
   ]
  },
  {
   "cell_type": "markdown",
   "id": "b07ee076",
   "metadata": {},
   "source": [
    "<br>**2. Inter-quartile range**\n",
    "<br><br>\n",
    "A more useful and often used statistic is the inter-quartile range, which is the difference in value between the 75th and 25th percentile."
   ]
  },
  {
   "cell_type": "code",
   "execution_count": null,
   "id": "e029d69e",
   "metadata": {},
   "outputs": [],
   "source": [
    "# Calculate the first and third quartiles\n",
    "q1, q3 = np.quantile(height_df, [0.25, 0.75])\n",
    "print(f\"25th percentile = {q1:.2f} cm\")\n",
    "print(f\"75th percentile = {q3:.2f} cm\")\n",
    "\n",
    "# Compute the Interquartile Range (IQR)\n",
    "iqr = q3 - q1 \n",
    "print(f\"inter-quartile range = {iqr:.2f} cm\")"
   ]
  },
  {
   "cell_type": "markdown",
   "id": "63c7286a",
   "metadata": {},
   "source": [
    "<br>**Standard Deviation**\n",
    "<br><br>\n",
    "Finally, let's look at the standard deviation, which is the most common measure of spread/variability. Recall that the standard deviation is related to the difference between each score's value and the mean across all scores. Mathematically, we would write this as the following: \n",
    "<br><br>\n",
    "\n",
    "$$\n",
    "\\sigma = \\sqrt{\\frac{1}{N}\\sum_{i=1}^{N}(x_i - \\mu)^2}\n",
    "$$\n",
    "\n",
    "<br>\n",
    "It would be complicated to manually calculate this in code, but thankfully python libraries have functions taht allow us to calculate the standard deviation easily."
   ]
  },
  {
   "cell_type": "code",
   "execution_count": null,
   "id": "87cb0022",
   "metadata": {},
   "outputs": [],
   "source": [
    "# Calculate standard deviation\n",
    "std_height = np.std(height_df['Height'])\n",
    "print(f\"Std = {std_height}\")"
   ]
  },
  {
   "cell_type": "markdown",
   "id": "05b44172",
   "metadata": {},
   "source": [
    "## ✅ Summary\n",
    "\n",
    "In this notebook, you: \n",
    "- Plotted histograms to visualize data distributions\n",
    "- Calculated measures of central tendency (mean & median)\n",
    "- Calculated measures of variability (full range, inter-quartile range and standard deviation) \n",
    "\n",
    "<br>\n",
    "These concepts form the foundation of statistical analysis and will help you interpret real-world data more effectively.\n",
    "<br><br>\n",
    "🎉 Great work!"
   ]
  }
 ],
 "metadata": {
  "kernelspec": {
   "display_name": "Python 3",
   "language": "python",
   "name": "python3"
  },
  "language_info": {
   "codemirror_mode": {
    "name": "ipython",
    "version": 3
   },
   "file_extension": ".py",
   "mimetype": "text/x-python",
   "name": "python",
   "nbconvert_exporter": "python",
   "pygments_lexer": "ipython3",
   "version": "3.11.0"
  }
 },
 "nbformat": 4,
 "nbformat_minor": 5
}
